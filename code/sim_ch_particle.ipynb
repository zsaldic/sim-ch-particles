{
 "cells": [
  {
   "cell_type": "markdown",
   "metadata": {},
   "source": [
    "# Simulation of Charged Particle Production\n",
    "___"
   ]
  },
  {
   "cell_type": "markdown",
   "metadata": {},
   "source": [
    "Colliding nuclei with high energy in particle accelerators is both a destructive and creative process. The acceleration of the nuclei to near light speed results in extremely high energy densities at the impact of the collision, where the high temperatures cause the nuclei to melt. However, the excess energy available excites the force fields, which leads to the creation of new particles following Einsteins mass-energy equivalence $E=mc^2$. The process has such high levels of complexity that to observe, let alone simulate, all phenomena and interactions occurring in the split of a second the particles collide and new particles emerge, is currently at the limits of our understanding. \n",
    "\n",
    "\n",
    "A toy model is a powerful tool used to investigate the complexity of nature. It is a highly simplified and idealized model of the real world, and we will, in the following, use a toy model to simulate the number of produced charged particles from a collision. The Glauber model is simulating nuclei collisions and computes the number of participants and the coordinates of the interacting nucleons $ N_{\\mathrm{part}}, \\{ {x_i,y_i,z_i|i=1,\\ldots,N_{\\mathrm{coll}}}\\}$. We will use these calculations as an input to our toy model. After the number of charged particles is known, it will be possible to distribute the particles spatially in the relevant coordinate system $(\\eta,\\varphi)$. The last step involves using the distributions $\\frac{\\mathrm{d}^2N_{\\mathrm{ch}}}{\\mathrm{d}\\eta\\mathrm{d}\\varphi}$, that represents the observed final state of particles in detectors, in an analysis."
   ]
  },
  {
   "cell_type": "markdown",
   "metadata": {},
   "source": [
    "## Number of Charged Particles"
   ]
  },
  {
   "cell_type": "markdown",
   "metadata": {},
   "source": [
    "### A Random Experiment"
   ]
  },
  {
   "cell_type": "markdown",
   "metadata": {},
   "source": [
    "There is a genuine level of randomness associated with many phenomena in nature, and the production of charged particles is no exception. A random variable drawn from its probability distribution is the value that describes the random phenomena. Various probability distributions can parameterize the number of charged particles. However, it is a rather conventional choice to use the Negative Binomial Distribution (NBD) since the random variable from an NBD reflects our understanding of the random process of particle production [[Alner et al(1985)](https://doi.org/10.1016/0370-2693(85)91492-3),[Ansorge et al (1989)](https://doi.org/10.1007/BF01506531)]. "
   ]
  },
  {
   "cell_type": "markdown",
   "metadata": {},
   "source": [
    "A binomial distribution often characterizes a random experiment, where it is the probability of the number of [Bernoulli trials](https://en.wikipedia.org/wiki/Bernoulli_trial) with a specific outcome. A Bernoulli trial is one that has a binary outcome:\n",
    "\n",
    " - True _or_ False\n",
    " - Success _or_ Failure \n",
    " - $A$ _or_ $B$\n",
    "\n",
    "Thus, we can say that the binomial distribution describes the probability of $k$ $A$'s out of $n$ possible.  Or, for the negative binomial - the probability of $k$ $B$'s  before $n$ $A$'s.\n",
    "\n",
    "In other words, the NBD differs from standard binomial distributions which usually counts the number of successes given a certain number of trials. Instead, the NBD counts the number of failures before a given number of successes (or counts the number of successes before a given number of failures).  Because the number of failures is simply a label we are assigning an _outcome_ of a Bernoulli trial, we are allowed to switch between the labelling interchangeably as required."
   ]
  },
  {
   "cell_type": "markdown",
   "metadata": {},
   "source": [
    "### The Toy Model\n",
    "The NBD suggests to be a reasonable choice for describing the random nature of particle production. Nevertheless, the next question that arises is how to implement it in the toy model, together with the Glauber calculations.  Remember, the goal is to create a model of particle production by applying the calculations delivered by the Glauber model, i.e. the number of participants and the collision coordinates. \n",
    "\n",
    "\n",
    "The idea is to reformulate the output of the Glauber calculation to a combined source of emerged particles in a given collision. In other words, we will define a single source to build particles from by applying a so-called _ancestor model_ to the output delivered by the Glauber calculation. Examples of ancestor models are\n",
    "\n",
    "\n",
    "- Two-component $N_\\mathrm{{anc}} = \\alpha \\: N_\\mathrm{{part}} + (1-\\alpha) \\: N_\\mathrm{{coll}}$\n",
    "\n",
    "- Hard two-component $N_\\mathrm{{anc}} = (1-\\alpha) \\: N_\\mathrm{{part}} \\: / \\: 2 + \\alpha \\: N_\\mathrm{{coll}}$ \n",
    "- Power-law in number of participants $N_\\mathrm{{anc}} = N_\\mathrm{{part}}^{\\alpha}$\n",
    "- Power-low in number of binary collisions $N_\\mathrm{{anc}} = N_\\mathrm{{coll}}^{\\alpha}$\n",
    "\n",
    "Where $\\alpha \\in [0,1]$ is the ancestor parameter. \n",
    "Using either of these models, we arrive at our number of sources $N_{\\mathrm{anc}}$.  Given the number of sources, and some model of charged particle production _per source,_ we can calculate the number of charged particles produced.  Examples of charged-particle production per source are \n",
    "\n",
    "- NBD $ N_\\mathrm{{ch}} \\sim \\mathrm{NB}[N_\\mathrm{anc} k,\\frac{\\mu}{\\mu+k}]$\n",
    "- Poisson $ N_\\mathrm{{ch}} \\sim \\mathcal{P} [ N_\\mathrm{{anc}} \\mu]$\n",
    "- Normal $N_\\mathrm{{ch}} \\sim \\mathcal{N} [N_\\mathrm{{anc}}\\mu,k\\sqrt{N_\\mathrm{{ancestors}}\\mu}]$\n",
    "- Constant $N_\\mathrm{{ch}} =N_\\mathrm{{ancs}}\\mu$\n",
    "\n",
    "Thus, the produced number of particles per source could be distributed according to NBD. If this is the case then for a given ancestor, we describe the probability of $n$ particles produced before we get $k$ failures in a series of $n+k$ independent trials. "
   ]
  },
  {
   "cell_type": "markdown",
   "metadata": {},
   "source": [
    "### The Negative Binomial Distribution"
   ]
  },
  {
   "cell_type": "markdown",
   "metadata": {},
   "source": [
    "The probability mass function of the number of failures $k$ before the $n^{\\mathrm{th}}$ success _in independent trials_ is given by \n",
    "\n",
    "$$f(k) = \\binom{k+n-1}{n-1} p^n (1-p)^k \\quad, $$\n",
    "where $p$ is the probability of a single success. We wish to flip this around to express the exact opposite, i.e. \n",
    "the probability density of the number of _successes_ $n$ before the $k^{\\mathrm{th}}$ _failure_\n",
    "\n",
    "\n",
    "$$ f(n) = \\binom{n+k-1}{k-1} p^k (1-p)^n \\quad. $$\n",
    "\n",
    "Here $n$ is the number of charged particles produced _per_ ancestor. "
   ]
  },
  {
   "cell_type": "markdown",
   "metadata": {},
   "source": [
    "We will in the following show how it is possible to rewrite the NBD as a $\\gamma$-Poisson mixture using _SymPy_. The mixture allows us to sample with the number of ancestors in a continuum $N_\\mathrm{anc} \\in \\mathbb{R}$."
   ]
  },
  {
   "cell_type": "code",
   "execution_count": 1,
   "metadata": {},
   "outputs": [],
   "source": [
    "from sympy.stats import density, Expectation, NegativeBinomial, Probability\n",
    "from sympy import symbols, Sum\n",
    "\n",
    "k = symbols(\"k\", real=True, positive=True) # k failures\n",
    "n = symbols(\"n\", integer=True, positive=True) # n successes\n",
    "p = symbols(\"p\",nonnegative=True) # probability of success\n",
    "\n",
    "X = NegativeBinomial(\"X\",k, p) # random variable X ~ NB(k,p)"
   ]
  },
  {
   "cell_type": "markdown",
   "metadata": {},
   "source": [
    "Now $X$ is a random variable distributed to $\\mathrm{NB}(k,p)$ where $k$ is the number of failures and $p$ is the probability of a single success. Let see what the probability density funciton (PDF) looks like for the number of successes $n$"
   ]
  },
  {
   "cell_type": "code",
   "execution_count": 2,
   "metadata": {},
   "outputs": [
    {
     "data": {
      "text/latex": [
       "$\\displaystyle p^{n} \\left(1 - p\\right)^{k} {\\binom{k + n - 1}{n}}$"
      ],
      "text/plain": [
       "p**n*(1 - p)**k*binomial(k + n - 1, n)"
      ]
     },
     "execution_count": 2,
     "metadata": {},
     "output_type": "execute_result"
    }
   ],
   "source": [
    "NB = density(X)(n)\n",
    "NB"
   ]
  },
  {
   "cell_type": "markdown",
   "metadata": {},
   "source": [
    "We will find the expectation value (or the average number of charged particles produced per ancestor) by"
   ]
  },
  {
   "cell_type": "code",
   "execution_count": 3,
   "metadata": {
    "scrolled": true
   },
   "outputs": [
    {
     "data": {
      "text/latex": [
       "$\\displaystyle \\sum_{x=0}^{\\infty} x Probability\\left(X = x\\right)$"
      ],
      "text/plain": [
       "Sum(x*Probability(Eq(X, x)), (x, 0, oo))"
      ]
     },
     "execution_count": 3,
     "metadata": {},
     "output_type": "execute_result"
    }
   ],
   "source": [
    "Expectation(X).rewrite(Probability)"
   ]
  },
  {
   "cell_type": "markdown",
   "metadata": {},
   "source": [
    "and thus"
   ]
  },
  {
   "cell_type": "code",
   "execution_count": 4,
   "metadata": {
    "scrolled": false
   },
   "outputs": [
    {
     "data": {
      "text/latex": [
       "$\\displaystyle \\sum_{X=0}^{\\infty} X p^{X} \\left(1 - p\\right)^{k} {\\binom{X + k - 1}{X}}$"
      ],
      "text/plain": [
       "Sum(X*p**X*(1 - p)**k*binomial(X + k - 1, X), (X, 0, oo))"
      ]
     },
     "execution_count": 4,
     "metadata": {},
     "output_type": "execute_result"
    }
   ],
   "source": [
    "Expectation(X).rewrite(Sum)"
   ]
  },
  {
   "cell_type": "markdown",
   "metadata": {},
   "source": [
    "Evaluting the sum we get"
   ]
  },
  {
   "cell_type": "code",
   "execution_count": 5,
   "metadata": {},
   "outputs": [
    {
     "data": {
      "text/latex": [
       "$\\displaystyle \\begin{cases} \\frac{k p}{1 - p} & \\text{for}\\: p < 1 \\\\\\frac{\\left(1 - p\\right)^{k} \\sum_{X=0}^{\\infty} \\frac{X p^{X} \\Gamma\\left(X + k + 1\\right)}{\\left(X + k\\right) \\Gamma\\left(X + 1\\right)}}{\\Gamma\\left(k\\right)} & \\text{otherwise} \\end{cases}$"
      ],
      "text/plain": [
       "Piecewise((k*p/(1 - p), p < 1), ((1 - p)**k*Sum(X*p**X*gamma(X + k + 1)/((X + k)*gamma(X + 1)), (X, 0, oo))/gamma(k), True))"
      ]
     },
     "execution_count": 5,
     "metadata": {},
     "output_type": "execute_result"
    }
   ],
   "source": [
    "Expectation(X).evaluate_integral().simplify()"
   ]
  },
  {
   "cell_type": "markdown",
   "metadata": {},
   "source": [
    "The first term is for $p<1$, and since $p \\in [0,1]$ this is the expectation value of the NBD. Let save this in a variable $\\mu$."
   ]
  },
  {
   "cell_type": "code",
   "execution_count": 6,
   "metadata": {},
   "outputs": [],
   "source": [
    "from sympy import Eq, solve\n",
    "mu = symbols(\"mu\", real=True, positive=True) # expectation value or avg. number of Nch/Nancestors"
   ]
  },
  {
   "cell_type": "code",
   "execution_count": 7,
   "metadata": {},
   "outputs": [],
   "source": [
    "expect_val = Eq(mu,k*p/(1-p))"
   ]
  },
  {
   "cell_type": "code",
   "execution_count": 8,
   "metadata": {
    "scrolled": false
   },
   "outputs": [
    {
     "data": {
      "text/latex": [
       "$\\displaystyle \\mu = \\frac{k p}{1 - p}$"
      ],
      "text/plain": [
       "Eq(mu, k*p/(1 - p))"
      ]
     },
     "execution_count": 8,
     "metadata": {},
     "output_type": "execute_result"
    }
   ],
   "source": [
    "expect_val"
   ]
  },
  {
   "cell_type": "markdown",
   "metadata": {},
   "source": [
    "The expectation value for the number of charged particles _per_ ancestors is thus\n",
    "$$\\mathbb{E}[n]=\\mu=\\frac{k(1-p)}{p}$$"
   ]
  },
  {
   "cell_type": "markdown",
   "metadata": {},
   "source": [
    "which allows us to find the expression for the probability of a single success $p$"
   ]
  },
  {
   "cell_type": "code",
   "execution_count": 9,
   "metadata": {},
   "outputs": [
    {
     "data": {
      "text/latex": [
       "$\\displaystyle \\frac{\\mu}{k + \\mu}$"
      ],
      "text/plain": [
       "mu/(k + mu)"
      ]
     },
     "execution_count": 9,
     "metadata": {},
     "output_type": "execute_result"
    }
   ],
   "source": [
    "solve(expect_val,p)[0]"
   ]
  },
  {
   "cell_type": "markdown",
   "metadata": {},
   "source": [
    "Thus, the probablity of success is  $p=\\frac{\\mu}{\\mu + k}$ . "
   ]
  },
  {
   "cell_type": "markdown",
   "metadata": {},
   "source": [
    "The NBD can be rewritten as a $\\gamma$-Poisson mixture. We will thus sample $n$ particles per ancestor from a Poisson with the parameter $\\Lambda$ where, $\\Lambda = \\lambda$ (the mean of Poisson) itself is a random variable distributed according to $\\Lambda \\sim \\gamma(a,b)$. Here the $\\gamma$ distribution is given by\n",
    "\n",
    "$$\\gamma(\\Lambda=\\lambda;a,b) = \\frac{1}{\\Gamma(a)b^a}\\lambda^{a-1}\\mathrm{e}^{-\\lambda/b}\\quad,$$"
   ]
  },
  {
   "cell_type": "code",
   "execution_count": 10,
   "metadata": {},
   "outputs": [
    {
     "data": {
      "text/latex": [
       "$\\displaystyle \\frac{b^{- a} \\lambda^{a - 1} e^{- \\frac{\\lambda}{b}}}{\\Gamma\\left(a\\right)}$"
      ],
      "text/plain": [
       "b**(-a)*lambda**(a - 1)*exp(-lambda/b)/gamma(a)"
      ]
     },
     "execution_count": 10,
     "metadata": {},
     "output_type": "execute_result"
    }
   ],
   "source": [
    "from sympy import gamma as sygamma, exp as syexp\n",
    "lamb, a,b = symbols('lambda a b',real=True,positive=True)\n",
    "gamma = 1/(sygamma(a)*b**a)*lamb**(a-1)*syexp(-lamb/b) # gamma function\n",
    "gamma"
   ]
  },
  {
   "cell_type": "markdown",
   "metadata": {},
   "source": [
    "where we will come back to the values $a$ and $b$ (the shape and scaling parameters). Joining this distribution together with a Poisson we get "
   ]
  },
  {
   "cell_type": "code",
   "execution_count": 11,
   "metadata": {},
   "outputs": [],
   "source": [
    "from sympy import factorial\n",
    "x = symbols(\"x\",integer=True,positive=True)\n",
    "\n",
    "poisson = lamb**x*syexp(-lamb)/factorial(x)"
   ]
  },
  {
   "cell_type": "code",
   "execution_count": 12,
   "metadata": {
    "scrolled": false
   },
   "outputs": [
    {
     "data": {
      "text/latex": [
       "$\\displaystyle \\frac{b^{- a} \\lambda^{x} \\lambda^{a - 1} e^{- \\lambda} e^{- \\frac{\\lambda}{b}}}{x! \\Gamma\\left(a\\right)}$"
      ],
      "text/plain": [
       "b**(-a)*lambda**x*lambda**(a - 1)*exp(-lambda)*exp(-lambda/b)/(factorial(x)*gamma(a))"
      ]
     },
     "execution_count": 12,
     "metadata": {},
     "output_type": "execute_result"
    }
   ],
   "source": [
    "gamma*poisson"
   ]
  },
  {
   "cell_type": "markdown",
   "metadata": {},
   "source": [
    "The idea of letting $\\lambda$ be a random variable and thereby allowing it to alternate can be utilized by integrating over all possible (positive) $\\lambda$ values, in this manner we also obtain the _marginal_ (or unconditional) distribution, i.e. a distribution that no longer depends on $\\lambda$\n",
    "\n",
    "$$f(x;a,b,\\lambda)=\\frac{b^{-a}}{\\Gamma(a) \\Gamma(x+1)} \\int_{0}^{\\infty} \\mathrm{d}\\lambda \\, \\lambda^{x+a-1} \\mathrm{e}^{-\\lambda(1 + 1/b)} \\quad,$$"
   ]
  },
  {
   "cell_type": "markdown",
   "metadata": {},
   "source": [
    "where $x! = \\Gamma(x+1)$ holds for $x$ as positive integer values. After integrating and evaluating we get\n"
   ]
  },
  {
   "cell_type": "code",
   "execution_count": 13,
   "metadata": {
    "scrolled": true
   },
   "outputs": [
    {
     "data": {
      "text/latex": [
       "$\\displaystyle \\frac{b^{x} \\left(b + 1\\right)^{- a - x} \\Gamma\\left(a + x\\right)}{\\Gamma\\left(a\\right) \\Gamma\\left(x + 1\\right)}$"
      ],
      "text/plain": [
       "b**x*(b + 1)**(-a - x)*gamma(a + x)/(gamma(a)*gamma(x + 1))"
      ]
     },
     "execution_count": 13,
     "metadata": {},
     "output_type": "execute_result"
    }
   ],
   "source": [
    "from sympy import integrate, oo\n",
    "(gamma*poisson).integrate((lamb,0,oo)).simplify()\n"
   ]
  },
  {
   "cell_type": "markdown",
   "metadata": {},
   "source": [
    "We can immidieatly see that the $\\Gamma$ terms resembles a binomial coefficient. If we define a binomial coeffient as"
   ]
  },
  {
   "cell_type": "code",
   "execution_count": 14,
   "metadata": {
    "scrolled": true
   },
   "outputs": [
    {
     "data": {
      "text/latex": [
       "$\\displaystyle {\\binom{a + x - 1}{x}}$"
      ],
      "text/plain": [
       "binomial(a + x - 1, x)"
      ]
     },
     "execution_count": 14,
     "metadata": {},
     "output_type": "execute_result"
    }
   ],
   "source": [
    "from sympy import binomial, gammasimp\n",
    "binom_coeff = binomial(a+x-1,x)\n",
    "binom_coeff"
   ]
  },
  {
   "cell_type": "markdown",
   "metadata": {},
   "source": [
    "abd rewrite in terms of $\\Gamma$"
   ]
  },
  {
   "cell_type": "code",
   "execution_count": 15,
   "metadata": {},
   "outputs": [
    {
     "data": {
      "text/latex": [
       "$\\displaystyle \\frac{\\Gamma\\left(a + x\\right)}{\\Gamma\\left(a\\right) \\Gamma\\left(x + 1\\right)}$"
      ],
      "text/plain": [
       "gamma(a + x)/(gamma(a)*gamma(x + 1))"
      ]
     },
     "execution_count": 15,
     "metadata": {},
     "output_type": "execute_result"
    }
   ],
   "source": [
    "gammasimp(binom_coeff)"
   ]
  },
  {
   "cell_type": "markdown",
   "metadata": {},
   "source": [
    "we get the equivalent to the $\\Gamma$ terms in the marginal distribution."
   ]
  },
  {
   "cell_type": "markdown",
   "metadata": {},
   "source": [
    "This only leaves us with the exponents. Lets try to expand and collect the exponents"
   ]
  },
  {
   "cell_type": "code",
   "execution_count": 16,
   "metadata": {},
   "outputs": [],
   "source": [
    "from sympy import expand_power_exp"
   ]
  },
  {
   "cell_type": "code",
   "execution_count": 17,
   "metadata": {
    "scrolled": true
   },
   "outputs": [
    {
     "data": {
      "text/latex": [
       "$\\displaystyle b^{x} \\left(b + 1\\right)^{- a} \\left(b + 1\\right)^{- x}$"
      ],
      "text/plain": [
       "b**x*(b + 1)**(-a)*(b + 1)**(-x)"
      ]
     },
     "execution_count": 17,
     "metadata": {},
     "output_type": "execute_result"
    }
   ],
   "source": [
    "expand_power_exp(b**x*(b+1)**(-a-x))"
   ]
  },
  {
   "cell_type": "markdown",
   "metadata": {},
   "source": [
    "The $x$ exponent terms can be rewritten as"
   ]
  },
  {
   "cell_type": "code",
   "execution_count": 18,
   "metadata": {},
   "outputs": [
    {
     "data": {
      "text/latex": [
       "$\\displaystyle \\left(\\frac{b}{b + 1}\\right)^{x}$"
      ],
      "text/plain": [
       "(b/(b + 1))**x"
      ]
     },
     "execution_count": 18,
     "metadata": {},
     "output_type": "execute_result"
    }
   ],
   "source": [
    "(b**x*(b+1)**-x).simplify()"
   ]
  },
  {
   "cell_type": "markdown",
   "metadata": {},
   "source": [
    "and thereforre this leaves us with"
   ]
  },
  {
   "cell_type": "markdown",
   "metadata": {},
   "source": [
    "$$\\binom{a+x-1}{x} \\bigg(\\frac{b}{b+1}\\bigg)^{x} \\bigg(\\frac{1}{1+b} \\bigg)^{a} \\quad,$$"
   ]
  },
  {
   "cell_type": "markdown",
   "metadata": {},
   "source": [
    "that we can compare to the PDF defined above"
   ]
  },
  {
   "cell_type": "code",
   "execution_count": 19,
   "metadata": {},
   "outputs": [
    {
     "data": {
      "text/latex": [
       "$\\displaystyle p^{n} \\left(1 - p\\right)^{k} {\\binom{k + n - 1}{n}}$"
      ],
      "text/plain": [
       "p**n*(1 - p)**k*binomial(k + n - 1, n)"
      ]
     },
     "execution_count": 19,
     "metadata": {},
     "output_type": "execute_result"
    }
   ],
   "source": [
    "NB"
   ]
  },
  {
   "cell_type": "markdown",
   "metadata": {},
   "source": [
    "We recognize the  $\\gamma$-Poisson as a NBD having the number of failures $a=k$ and the probability of _success_ as $p = \\frac{b}{b+1}$ and therefore $b=\\frac{p}{(1-p)}=\\frac{\\mu}{k}$. "
   ]
  },
  {
   "cell_type": "markdown",
   "metadata": {},
   "source": [
    "To actually model number of charged particles $N_\\mathrm{ch}$ we will have to let $a$ be proportional to the number of ancestors because the particle production model is modeling for the number of chraged particles _per_ ancestor. \n",
    "In the following step we will redefine $a$ by letting it be proportional to the number of ancestors as $a=\\mathrm{N_{ancestors}}k$, and again reminding ourselves that the found expectation value (mean) $\\mu$ is the average number of charged particles _per_ ancestor. We are thereby ensured to sample $N_\\mathrm{{ch}}$ and not $N_\\mathrm{ch}/N_\\mathrm{anc}$.\n",
    "After inserting $b=\\frac{\\mu}{k}$  we arrive to the final distribution of charged particles"
   ]
  },
  {
   "cell_type": "code",
   "execution_count": 20,
   "metadata": {
    "scrolled": true
   },
   "outputs": [
    {
     "data": {
      "text/latex": [
       "$\\displaystyle \\left(\\frac{\\mu}{k + \\mu}\\right)^{n_\\mathrm{ch}} \\left(- \\frac{\\mu}{k + \\mu} + 1\\right)^{N_\\mathrm{anc} k} {\\binom{N_\\mathrm{anc} k + n_\\mathrm{ch} - 1}{n_\\mathrm{ch}}}$"
      ],
      "text/plain": [
       "(mu/(k + mu))**n_\\mathrm{ch}*(-mu/(k + mu) + 1)**(N_\\mathrm{anc}*k)*binomial(N_\\mathrm{anc}*k + n_\\mathrm{ch} - 1, n_\\mathrm{ch})"
      ]
     },
     "execution_count": 20,
     "metadata": {},
     "output_type": "execute_result"
    }
   ],
   "source": [
    "Nanc = symbols('N_\\mathrm{anc}',real=True,positive=True)\n",
    "nch = symbols(\"n_\\mathrm{ch}\", integer=True, positive=True)\n",
    "Nch = NegativeBinomial(\"X\",Nanc*k, mu/(mu+k)) \n",
    "NB = density(Nch)(nch)\n",
    "NB"
   ]
  },
  {
   "cell_type": "markdown",
   "metadata": {},
   "source": [
    "The expectation value of this NBD is then"
   ]
  },
  {
   "cell_type": "code",
   "execution_count": 21,
   "metadata": {
    "scrolled": true
   },
   "outputs": [
    {
     "data": {
      "text/latex": [
       "$\\displaystyle \\begin{cases} N_\\mathrm{anc} \\mu & \\text{for}\\: \\frac{\\mu}{k + \\mu} < 1 \\\\\\frac{N_\\mathrm{anc} k^{N_\\mathrm{anc} k + 1} \\left(k + \\mu\\right)^{- N_\\mathrm{anc} k} \\sum_{X=0}^{\\infty} \\frac{X \\mu^{X} \\left(k + \\mu\\right)^{- X} \\Gamma\\left(N_\\mathrm{anc} k + X + 1\\right)}{\\left(N_\\mathrm{anc} k + X\\right) \\Gamma\\left(X + 1\\right)}}{\\Gamma\\left(N_\\mathrm{anc} k + 1\\right)} & \\text{otherwise} \\end{cases}$"
      ],
      "text/plain": [
       "Piecewise((N_\\mathrm{anc}*mu, mu/(k + mu) < 1), (N_\\mathrm{anc}*k**(N_\\mathrm{anc}*k + 1)*(k + mu)**(-N_\\mathrm{anc}*k)*Sum(X*mu**X*(k + mu)**(-X)*gamma(N_\\mathrm{anc}*k + X + 1)/((N_\\mathrm{anc}*k + X)*gamma(X + 1)), (X, 0, oo))/gamma(N_\\mathrm{anc}*k + 1), True))"
      ]
     },
     "execution_count": 21,
     "metadata": {},
     "output_type": "execute_result"
    }
   ],
   "source": [
    "Expectation(Nch).evaluate_integral().simplify()"
   ]
  },
  {
   "cell_type": "markdown",
   "metadata": {},
   "source": [
    "Thus, the expectation value for the number of charged particles with this particle producion model is $\\mathbb{E}[N_\\mathrm{ch}]=N_\\mathrm{ancestors}\\mu$."
   ]
  },
  {
   "cell_type": "markdown",
   "metadata": {},
   "source": [
    "## Ancestor Models\n",
    "___\n"
   ]
  },
  {
   "cell_type": "markdown",
   "metadata": {},
   "source": [
    "### The Two Component Model\n",
    "The two component model computes the number of ancestors as \n",
    "\n",
    "$$N_\\mathrm{anc} = \\alpha \\: N_\\mathrm{part} + (1-\\alpha) \\: N_\\mathrm{{coll}}\n",
    "\\quad\\alpha \\in [0,1]$$"
   ]
  },
  {
   "cell_type": "code",
   "execution_count": 22,
   "metadata": {},
   "outputs": [],
   "source": [
    "def two_component(Npart,Ncoll,alpha):\n",
    "    \"\"\"Two component model as an ancestor model\n",
    "    \n",
    "    Computes the number of ancestors \n",
    "    \n",
    "    Parameters\n",
    "    ----------\n",
    "    Npart : integer\n",
    "        Number of participants\n",
    "    Ncoll : integer\n",
    "        Number of collisions\n",
    "    alpha : float\n",
    "        Ancestor parameter\n",
    "        \n",
    "    Returns\n",
    "    -------\n",
    "    Nanc : float\n",
    "        Number of ancestors\n",
    "    \"\"\"\n",
    "    \n",
    "    Nanc = alpha * Npart + (1 - alpha)* Ncoll\n",
    "    \n",
    "    return Nanc"
   ]
  },
  {
   "cell_type": "markdown",
   "metadata": {},
   "source": [
    "### The Hard Two Component Model\n",
    "The hard two component model computes the number of ancestors as \n",
    "\n",
    "$$N_\\mathrm{anc} = (1-\\alpha) \\: N_\\mathrm{part} \\: / \\: 2 + \\alpha \\: N_\\mathrm{coll}\n",
    "\\quad\\alpha \\in [0,1]$$\n",
    "\n",
    "\n",
    "The _hard_ part hinges on the idea that $N_{\\mathrm{coll}}$ scales as the number of collisions with large $Q^2$ (momentum transfer), while $N_{\\mathrm{part}}$ scales as the number of interactions with low $Q^2$. This, however, has not been truly substantiated."
   ]
  },
  {
   "cell_type": "code",
   "execution_count": 23,
   "metadata": {},
   "outputs": [],
   "source": [
    "def hard_two_component(Npart,Ncoll,alpha):\n",
    "    \"\"\"\n",
    "    \"\"\"\n",
    "    Nanc = (1-alpha)*Npart/2 + alpha*Ncoll\n",
    "    return Nanc"
   ]
  },
  {
   "cell_type": "markdown",
   "metadata": {},
   "source": [
    "### The $N_\\mathrm{{part}}$  powerlaw\n",
    "$$N_\\mathrm{ancestors} = N_\\mathrm{part}^{\\alpha}\\quad\\alpha \\in [0.5,1.4]$$"
   ]
  },
  {
   "cell_type": "code",
   "execution_count": 24,
   "metadata": {},
   "outputs": [],
   "source": [
    "def npart_power(Npart,alpha,**kwargs):\n",
    "    \"\"\"\n",
    "    \"\"\"\n",
    "    \n",
    "    Nanc = Npart**alpha\n",
    "    return Nanc"
   ]
  },
  {
   "cell_type": "markdown",
   "metadata": {},
   "source": [
    "### The $N_\\mathrm{coll}$  powerlaw\n",
    "$$N_\\mathrm{anc} = N_\\mathrm{{coll}}^{\\alpha}\\quad\\alpha \\in [0.5,1.2]$$"
   ]
  },
  {
   "cell_type": "code",
   "execution_count": 25,
   "metadata": {},
   "outputs": [],
   "source": [
    "def ncoll_power(Ncoll,alpha,**kwargs):\n",
    "    \"\"\"\n",
    "    \"\"\"\n",
    "    \n",
    "    Nanc = Ncoll**alpha\n",
    "    return Nanc    "
   ]
  },
  {
   "cell_type": "markdown",
   "metadata": {},
   "source": [
    "## Particle Production Models\n",
    "___"
   ]
  },
  {
   "cell_type": "markdown",
   "metadata": {},
   "source": [
    "### The Negative Binomial Distribution"
   ]
  },
  {
   "cell_type": "code",
   "execution_count": 26,
   "metadata": {},
   "outputs": [],
   "source": [
    "def negative_binomial(Nanc,mu,k):\n",
    "    \"\"\"Negative Binomial Distribution (NBD)\n",
    "    \n",
    "    This is a charged particle production model based on the NBD.\n",
    "    The NBD is modelled as a gamma-poisson mixture. \n",
    "    \n",
    "    Parameters\n",
    "    ---------- \n",
    "    Nanc : float \n",
    "        Number of ancestors\n",
    "    \n",
    "    mu : float\n",
    "        The average number of charged particles produced per ancestor\n",
    "    \n",
    "    k : float\n",
    "        The fluctuation around the average number of particles produced per ancestor\n",
    "    \n",
    "    Returns\n",
    "    -------\n",
    "    Nch : integer\n",
    "        Number of charged particles produced\n",
    "    \n",
    "    \"\"\"\n",
    "    from numpy.random import gamma, poisson\n",
    "\n",
    "    p = mu / (mu + k)\n",
    "    a = Nanc * k\n",
    "    b = p / (1-p)\n",
    "\n",
    "    lamb = gamma(a,b)\n",
    "    Nch = poisson(lamb)\n",
    "    \n",
    "    return Nch"
   ]
  },
  {
   "cell_type": "markdown",
   "metadata": {},
   "source": [
    "### The Poisson Distribution"
   ]
  },
  {
   "cell_type": "code",
   "execution_count": 27,
   "metadata": {},
   "outputs": [],
   "source": [
    "def poisson(Nanc,mu,**kwargs):\n",
    "    \"\"\"\n",
    "    \"\"\"\n",
    "    from numpy.random import poisson\n",
    "    Nch = poisson(Nanc*mu)\n",
    "    return Nch"
   ]
  },
  {
   "cell_type": "markdown",
   "metadata": {},
   "source": [
    "### The Gaussian Distribution"
   ]
  },
  {
   "cell_type": "code",
   "execution_count": 28,
   "metadata": {},
   "outputs": [],
   "source": [
    "def gaussian(Nanc,mu,k):\n",
    "    \"\"\"\n",
    "    \"\"\"\n",
    "    from numpy import sqrt\n",
    "    from numpy.random import normal\n",
    "    Nch = normal(Nanc*mu,k*sqrt(Nanc*mu))\n",
    "    return Nch"
   ]
  },
  {
   "cell_type": "markdown",
   "metadata": {},
   "source": [
    "### Fixed Number "
   ]
  },
  {
   "cell_type": "code",
   "execution_count": 29,
   "metadata": {},
   "outputs": [],
   "source": [
    "def fixed(Nanc,mu,**kwargs):\n",
    "    \"\"\"\n",
    "    \"\"\"\n",
    "    Nch = Nanc * mu\n",
    "    return Nch"
   ]
  },
  {
   "cell_type": "markdown",
   "metadata": {},
   "source": [
    "## Charged Particle Production\n",
    "***"
   ]
  },
  {
   "cell_type": "code",
   "execution_count": 30,
   "metadata": {},
   "outputs": [],
   "source": [
    "def charged_particle_production(Npart,Ncoll,ancestor_model,particle_production_model):\n",
    "    \"\"\"Produce the number of charged particles created from a collisionn\n",
    "    \n",
    "    Produces the number of charged particles from the Glauber model output \n",
    "    coupled with a model for particle production    \n",
    "    \n",
    "    Parameters\n",
    "    ----------\n",
    "    Npart : integer \n",
    "        Number of participants\n",
    "    \n",
    "    Ncoll : integer\n",
    "        Number of collisions\n",
    "    \n",
    "    ancestor_model : callable\n",
    "        A function that computes the number of ancestors\n",
    "    \n",
    "    particle_production_model : callable\n",
    "        A function that computes the number charged particles based on the\n",
    "        number of ancestors.\n",
    "        \n",
    "    Returns\n",
    "    -------\n",
    "    Nch : integer\n",
    "        The number of charged particles\n",
    "    \"\"\"\n",
    "    \n",
    "    # compute the number of ancestors\n",
    "    Nanc = ancestor_model(Npart,Ncoll)\n",
    "    \n",
    "    # compute the number of charged particles\n",
    "    Nch = particle_production_model(Nanc)\n",
    "    \n",
    "    return Nch"
   ]
  },
  {
   "cell_type": "markdown",
   "metadata": {},
   "source": [
    "### Test of the $N_\\mathrm{ch}$ distribution\n",
    "___\n",
    "\n",
    "Here we will test the parameters of $\\alpha, \\mu$ and $k$ to make sure that we are on the right track regarding produced particles. "
   ]
  },
  {
   "cell_type": "markdown",
   "metadata": {},
   "source": [
    "If $\\alpha$ is zero it favors $N_\\mathrm{coll}$, i.e. the number of ancestors only depends on the number of collisions. Likewise if $\\alpha$ is equal to one it favours only $N_\\mathrm{part}$. Below we test for the two component model as ancestor model and the NBD as production model. "
   ]
  },
  {
   "cell_type": "code",
   "execution_count": 31,
   "metadata": {
    "scrolled": true
   },
   "outputs": [
    {
     "data": {
      "image/png": "[encoded data removed]",
      "text/plain": [
       "<Figure size 600x400 with 1 Axes>"
      ]
     },
     "metadata": {
      "needs_background": "light"
     },
     "output_type": "display_data"
    }
   ],
   "source": [
    "def test_two_component_NBD_model():\n",
    "\n",
    "    from numpy.random import randint\n",
    "    from numpy import full, arange\n",
    "    from nbi_stat import histogram, plot_hist\n",
    "    from functools import partial\n",
    "\n",
    "    \n",
    "    # create a 1000 'fake' central events\n",
    "    Npart = full((1000,1),416) # all nucleons of both Pb nucleis participate\n",
    "    Ncoll = full((1000,1),2000) # most central events have 2000 collisions\n",
    "    \n",
    "    # get the number of charged particles\n",
    "    Nch = charged_particle_production(Npart,Ncoll,partial(two_component,alpha=0.5),partial(negative_binomial,mu=20,k=2))\n",
    "    \n",
    "    # create a historgram\n",
    "    h  = histogram(Nch,normalize=True)\n",
    "    \n",
    "    # get number of ancestors (for drawing)\n",
    "    Na = two_component(Npart,Ncoll,alpha=0.5)[0][0]\n",
    "    \n",
    "    # get parameters for NB pmf\n",
    "    mu = 20\n",
    "    k = 2 \n",
    "    p = mu / (mu + k)\n",
    "    n = Na * k\n",
    "    \n",
    "    # NOTE: We are generating the probability mass function of the number of failures.\n",
    "    # Therefore for the probability of a __succes__ is p = 1-p\n",
    "    p = 1-p \n",
    "    \n",
    "    from scipy.stats import nbinom\n",
    "    # get x values of NB pmf\n",
    "    x = arange(nbinom.ppf(0.0001, n, p),\n",
    "                  nbinom.ppf(0.9999, n, p))\n",
    "    \n",
    "    from matplotlib.pyplot import figure, gca, plot, ylabel, xlabel, legend\n",
    "    fig = figure(dpi=100)\n",
    "    ax = gca()\n",
    "    plot(x, nbinom.pmf(x, n, p), '-r', lw=2, alpha=0.6,label='Negative Binomial')\n",
    "    plot_hist(*h,as_bar=True,label=r'$\\mathrm{Sample \\: of \\: N_{ch}}$',alpha=.3,ax=ax,color='C0');\n",
    "    ylabel(r'$\\frac{1}{N}\\frac{\\mathrm{d}N}{\\mathrm{d}N_\\mathrm{ch}}$')\n",
    "    xlabel(r'$N_\\mathrm{ch}$')\n",
    "    legend()\n",
    "\n",
    "    return\n",
    "test_two_component_NBD_model()"
   ]
  },
  {
   "cell_type": "markdown",
   "metadata": {},
   "source": [
    "## Particle Distributions\n",
    "---"
   ]
  },
  {
   "cell_type": "markdown",
   "metadata": {},
   "source": [
    "### Rapidity Distribution\n",
    "The next step involves creating rapidity distribution based on the number of charged particles."
   ]
  },
  {
   "cell_type": "code",
   "execution_count": 32,
   "metadata": {},
   "outputs": [],
   "source": [
    "def generate_rapidities(Nch, sigma):\n",
    "    \"\"\"Generate the rapidity distribution of charged particles\n",
    "    \n",
    "    The charged particle rapidities are distributed according to a normal distribution.\n",
    "    This function corresponds to a single event, i.e. the distribution of the \n",
    "    created charged particles as a function of rapidity from single event collision. \n",
    "    \n",
    "    Parameters\n",
    "    ----------\n",
    "    Nch : integer\n",
    "        The number of charged particles\n",
    "    sigma : float\n",
    "        The width of the normal distribution\n",
    "        \n",
    "    Returns\n",
    "    -------\n",
    "    y : array(Nch)\n",
    "        Rapidities of the charged particles\n",
    "    \"\"\"\n",
    "    from numpy.random import normal\n",
    "    \n",
    "    y = normal(0,sigma,size=Nch)\n",
    "    \n",
    "    return y"
   ]
  },
  {
   "cell_type": "markdown",
   "metadata": {},
   "source": [
    "A quick test to see the plot.."
   ]
  },
  {
   "cell_type": "code",
   "execution_count": 33,
   "metadata": {},
   "outputs": [
    {
     "data": {
      "image/png": "[encoded data removed]",
      "text/plain": [
       "<Figure size 600x400 with 1 Axes>"
      ]
     },
     "metadata": {
      "needs_background": "light"
     },
     "output_type": "display_data"
    }
   ],
   "source": [
    "def test_rapidity_distribution(Nch=24000):\n",
    "    \n",
    "    from scipy.stats import norm\n",
    "    from numpy import linspace\n",
    "\n",
    "    # x values for the normal pdf\n",
    "    x = linspace(norm.ppf(0.0001,scale=4),\n",
    "                    norm.ppf(0.9999,scale=4), 1000)   \n",
    "    \n",
    "    # get rapidities\n",
    "    y = generate_rapidities(Nch=Nch,sigma=4)\n",
    "    \n",
    "    from nbi_stat import histogram, plot_hist\n",
    "    \n",
    "    h  = histogram(y,normalize=False)\n",
    " \n",
    "    from matplotlib.pyplot import figure, gca, plot, xlabel, ylabel, legend\n",
    "    \n",
    "    fig = figure(dpi=100)\n",
    "    ax = gca()  \n",
    "    plot(x, norm.pdf(x,scale=4)*Nch,'g-', lw=2, alpha=0.6, label='Normal PDF');\n",
    "    plot_hist(*h,as_bar=True,label=r'$\\mathrm{Sample \\: of \\: y}$',alpha=.3,ax=ax,color='C1');\n",
    "    ylabel(r'$\\frac{\\mathrm{d}N_\\mathrm{ch}}{\\mathrm{d}y}}$')\n",
    "    xlabel(r'$y$');\n",
    "    legend();\n",
    "    \n",
    "    return\n",
    "test_rapidity_distribution(Nch=24000)"
   ]
  },
  {
   "cell_type": "markdown",
   "metadata": {},
   "source": [
    "## Pseudorapidity Distribution\n",
    "___\n",
    "\n",
    "Now we transform the rapidity distribution to pseudorapidiy. For in depth details see \n",
    "ch. 8 in Statistics Overview (nbi_python) by Chrisitan Holm Christensen. "
   ]
  },
  {
   "cell_type": "code",
   "execution_count": 34,
   "metadata": {},
   "outputs": [],
   "source": [
    "def dy_to_deta(y,a=1/2):\n",
    "    \"\"\"Transforms rapidity to pseudorapidity \n",
    "    \n",
    "    The functions takes the rapidity distribution and transforms it \n",
    "    to a pseudorapidy distribution.   \n",
    " \n",
    "    NOTE: This is taken from ch. 8 in Statistics Overview (nbi_python), \n",
    "    by Chrisitan Holm Christensen \n",
    "\n",
    "    Parameters\n",
    "    ----------\n",
    "    y : array(Nch)\n",
    "        The rapidity distribution\n",
    "    a : float\n",
    "        The m/pT ratio of particles; default is 0.5        \n",
    "    Returns\n",
    "    -------\n",
    "    eta : array(Nch)\n",
    "        Pseudorapidities of charged particles\n",
    "    \"\"\"\n",
    "    from numpy import tanh , sqrt , log, where\n",
    "    \n",
    "    t = tanh(y)\n",
    "    tmp = -((1.+2.*a**2)*t**2 - 2.*t*sqrt(a**2+1.)*sqrt(a**2*t**2+1.) + 1.)/(t**2-1.)\n",
    "    #eta = -0.5 * log(where(tmp > 0, tmp, 1e-11)) \n",
    "    eta = -0.5 * log(where(tmp > 0, tmp, 1e-8))  \n",
    "    #eta = -0.5 * log(tmp[tmp >0]) \n",
    "        \n",
    "    return eta "
   ]
  },
  {
   "cell_type": "markdown",
   "metadata": {},
   "source": [
    "Make a quick plotting test again ..  "
   ]
  },
  {
   "cell_type": "code",
   "execution_count": 35,
   "metadata": {},
   "outputs": [
    {
     "name": "stderr",
     "output_type": "stream",
     "text": [
      "/Users/zsaldic/.pyenv/versions/3.7.7/lib/python3.7/site-packages/ipykernel_launcher.py:24: RuntimeWarning: divide by zero encountered in true_divide\n"
     ]
    },
    {
     "data": {
      "image/png": "[encoded data removed]",
      "text/plain": [
       "<Figure size 600x400 with 1 Axes>"
      ]
     },
     "metadata": {
      "needs_background": "light"
     },
     "output_type": "display_data"
    }
   ],
   "source": [
    "def test_y_to_eta(Nch=24000):\n",
    "    from numpy import linspace\n",
    "\n",
    "    # creates bin range and number of bins\n",
    "    bins = linspace(-5,5,26)\n",
    "\n",
    "    # get rapidities of an Nch=24000 event\n",
    "    y = generate_rapidities(Nch=Nch,sigma=4)\n",
    "    \n",
    "    # convert rapidiy to pseudorapidity\n",
    "    eta = dy_to_deta(y,a=1/2)\n",
    "    \n",
    "    from nbi_stat import histogram, plot_hist\n",
    "    \n",
    "    # create eta historam\n",
    "    heta = histogram(eta,bins=bins ,normalize=False)\n",
    "    \n",
    "    from matplotlib.pyplot import figure, gca, plot, xlabel, ylabel, legend\n",
    "    \n",
    "    #plot\n",
    "    fig = figure(dpi=100)\n",
    "    plot_hist(*heta ,fmt='s',label=r'$\\mathrm{Sample \\: of \\: \\eta}$',color='C2');\n",
    "    xlabel(r\"$\\eta$\")\n",
    "    ylabel(r\"$\\frac{\\mathrm{d}N_{\\mathrm{ch}}}{\\mathrm{d}\\eta}$\")\n",
    "    legend();\n",
    "    \n",
    "    return\n",
    "test_y_to_eta();"
   ]
  },
  {
   "cell_type": "markdown",
   "metadata": {},
   "source": [
    "## Azimuthal Distribution \n",
    "___\n",
    "\n",
    "In the next step we are interested in making the azimuthal distribution. The azimuthal angles as distributed according to the fourier series \n",
    "\n",
    "$$f(\\varphi;\\mathbf{v},\\mathbf{\\Psi}) = 1+\\sum_{n=1}^{N} v_n\\cos\\left(n\\left[\\varphi+\\Psi_n\\right]\\right)$$\n",
    "\n",
    "We begin by defining $f(\\varphi)$ below."
   ]
  },
  {
   "cell_type": "code",
   "execution_count": 36,
   "metadata": {},
   "outputs": [],
   "source": [
    "def f(phi,vn,psin):\n",
    "    \"\"\"The azimuthal angle (phi) distribution of charged particles\n",
    "    \n",
    "    The charged particles are distributed according to\n",
    "    \n",
    "    f(φ;vn,𝚿) = 1 + Σ vn cos(n[φ+⁡ᴪn])\n",
    "    \n",
    "    NOTE: the sum is computed as a dot product and phi is defined in [0,2π]\n",
    "    \n",
    "    Parameters\n",
    "    ----------\n",
    "    phi : array of shape (Npoints,)\n",
    "        The domain of phi  \n",
    "        \n",
    "    vn : list of length n OR array of shape (n,)\n",
    "        The flow coefficients for each harmonic\n",
    "        \n",
    "    psi : list of length n OR array of shape (n,)\n",
    "        The phases of the symmetry plane for each harmonic\n",
    "        \n",
    "    Returns\n",
    "    -------\n",
    "    f : array of shape (Npoints,)\n",
    "        The distribution of phi\n",
    "    \"\"\"\n",
    "    from numpy import asarray, arange, newaxis \n",
    "    \n",
    "    # make sure to have arrays\n",
    "    vn = asarray(vn)\n",
    "    psin = asarray(psin)\n",
    "    \n",
    "    # create harmonics array\n",
    "    n = arange(len(vn))+1\n",
    "    \n",
    "    # reshape vn, ᴪn, and n to row vectors (1,n)\n",
    "    vn = vn.reshape((vn.shape[0], -1))\n",
    "    psin = psin.reshape((psin.shape[0], -1))\n",
    "    n = n.reshape((psin.shape[0], -1))\n",
    "    \n",
    "    vn = vn.T\n",
    "    psin = psin.T\n",
    "    n = n.T\n",
    "    \n",
    "    # reshape phi to a coloumn vector (Npoints,1)\n",
    "    phi = phi[:,newaxis]   \n",
    "    \n",
    "    from numpy import broadcast_to, cos, dot\n",
    "    \n",
    "    # broadcast an (Npoints,n) psi array, e.g. (100,[ᴪ1,ᴪ2,..ᴪn])\n",
    "    psi_array = broadcast_to(psin,(phi.size,psin.size)) \n",
    "    \n",
    "    # add ᴪn to every φ \n",
    "    # w/ shape still (Npoints,n)\n",
    "    psi_phi = (psi_array+phi) \n",
    "    \n",
    "    # compute n * [ᴪn + φ] (elementwise)\n",
    "    # w/ shape still again (Npoints,n)\n",
    "    csn = cos(n * psi_phi) \n",
    "\n",
    "    # compute Σ vn * cos(n...) as dot product\n",
    "    # w/ shape (1,n) x (n,Npoints) = (1,Npoints)\n",
    "    f = 1 + dot(vn,csn.T)\n",
    "    \n",
    "    # transpose to coloumn vector (Npoints,1)\n",
    "    f = f.T\n",
    "    \n",
    "    # return as array of shape (Npoints,)\n",
    "    f = f[:,0]\n",
    "    phi = phi[:,0]\n",
    "    \n",
    "    return f"
   ]
  },
  {
   "cell_type": "markdown",
   "metadata": {},
   "source": [
    "Next, we define a function that samples angles from the distribution. "
   ]
  },
  {
   "cell_type": "markdown",
   "metadata": {},
   "source": [
    "A little sampling hack .. "
   ]
  },
  {
   "cell_type": "code",
   "execution_count": 37,
   "metadata": {},
   "outputs": [],
   "source": [
    "def eval_cdf(f,x,dx=None,adjust=False):\n",
    "    \"\"\"the adjusted version\n",
    "    \n",
    "    This allows to sample even if the pdf is negative by adding a constant. \n",
    "    The constant is the minimum in the function and raises the range \n",
    "    of f above zero. Thereby the cdf is monotonically raising and is invertible.  \n",
    "    \"\"\"\n",
    "    from numpy import diff, cumsum, concatenate\n",
    "    if dx is None: dx = diff(x,prepend=x[0])\n",
    "    fx = f(x)\n",
    "    if any(fx < 0):\n",
    "        if not adjust:\n",
    "            raise ValueError('f is not positive over the domain')\n",
    "        fx += -fx.min()\n",
    "    uncdf = cumsum(dx * fx)\n",
    "    return uncdf/uncdf.max()"
   ]
  },
  {
   "cell_type": "code",
   "execution_count": 38,
   "metadata": {},
   "outputs": [],
   "source": [
    "def generate_azimuthals(Nch,vn,psin):\n",
    "    \"\"\"Generate the azimuthal distribution of charged particles\n",
    "    \n",
    "    Parameters\n",
    "    ----------\n",
    "    Nch : integer\n",
    "        The number of charged particles\n",
    "    vn : list\n",
    "        The flow coefficients\n",
    "    psi : list\n",
    "        The symmetry plane angle\n",
    "        \n",
    "    Returns\n",
    "    -------\n",
    "    azimuthals : array of size (Nch,)\n",
    "        Azimuthal angles of charged particles\n",
    "    \"\"\"\n",
    "    from numpy import linspace, pi\n",
    "    \n",
    "    # declare phi domain, phi in [0,2π]\n",
    "    x = linspace(0,2*pi,101)\n",
    "    \n",
    "    from nbi_stat import sample_pdf  \n",
    "    cdf = eval_cdf(lambda phi: f(phi,vn,psin), x, adjust=True)\n",
    "    \n",
    "    from numpy.random import uniform\n",
    "    phi_sample = sample_pdf(uniform(size=Nch), x, cdf)\n",
    "        \n",
    "    return phi_sample"
   ]
  },
  {
   "cell_type": "code",
   "execution_count": 39,
   "metadata": {},
   "outputs": [
    {
     "data": {
      "image/png": "[encoded data removed]",
      "text/plain": [
       "<Figure size 600x400 with 1 Axes>"
      ]
     },
     "metadata": {
      "needs_background": "light"
     },
     "output_type": "display_data"
    }
   ],
   "source": [
    "def test_phi_distributions(Nch=24000):\n",
    "    from numpy import linspace, pi\n",
    "    x, dx = linspace(0,2*pi,101,retstep=True)\n",
    "    \n",
    "    vn = [0.1,0.8,0.3,0.4,0.5]\n",
    "    psin = [0,0,0,0,0]\n",
    "\n",
    "    pdf  = f(x,vn=vn,psin=psin)\n",
    "    pdf  /= (pdf.sum() * dx)\n",
    "\n",
    "    phi = generate_azimuthals(Nch,vn,psin)\n",
    "\n",
    "    from nbi_stat import histogram, plot_hist\n",
    "    h = histogram(phi,normalize=False)\n",
    "\n",
    "    from matplotlib.pyplot import figure, gca, plot, xlabel, ylabel, legend\n",
    "\n",
    "    fig = figure(dpi=100)\n",
    "    ax = gca()  \n",
    "\n",
    "    plot_hist(*h,as_bar=True,label=r'$\\mathrm{Sample \\: of \\: \\varphi}$',alpha=.3,ax=ax,color='C1');\n",
    "    plot(x,pdf*Nch,label=r'$f(\\varphi)$',c='C1')\n",
    "\n",
    "    ylabel(r'$\\frac{\\mathrm{d}N_\\mathrm{ch}}{\\mathrm{d}\\varphi}}}$')\n",
    "    xlabel(r'$\\varphi$');\n",
    "    legend();\n",
    "    return\n",
    "test_phi_distributions(Nch=24000)"
   ]
  },
  {
   "cell_type": "code",
   "execution_count": 40,
   "metadata": {
    "scrolled": true
   },
   "outputs": [],
   "source": [
    "def epsilonn_to_vn(epsn,psin,factors,phases):\n",
    "    \"\"\"Converts eccentricities to flow coefficients \n",
    "        and rotate symmetry plane to eccentricity plane\n",
    "    \n",
    "    Parameters\n",
    "    ----------\n",
    "    epsn : list of length n harmonics\n",
    "        The eccentricities for each\n",
    "        harmonic\n",
    "        \n",
    "    psin : list of length n harmonics\n",
    "        The phases of symmetry planes \n",
    "        for each harmonic \n",
    "        \n",
    "    factors : list of length n harmonics\n",
    "        Factors to enhance the flow coefficients\n",
    "        \n",
    "    Returns\n",
    "    -------\n",
    "    vn : array of shape (n,)\n",
    "        The flow coefficients\n",
    "    \n",
    "    psin_ : array of shape (n,)\n",
    "        \n",
    "        \n",
    "    \"\"\"\n",
    "    from numpy import asarray, arange,pi, newaxis\n",
    "    \n",
    "    # convert to array and correct dimensions\n",
    "    psin = asarray(psin)\n",
    "    psin = psin.reshape((psin.shape[0], -1))\n",
    "    phases = phases.reshape((phases.shape[0], -1))\n",
    "    \n",
    "    from numpy import broadcast_to, cos, dot\n",
    "    # broadcast an (Npoints,n) psi array, e.g. (100,[ᴪ1,ᴪ2,..ᴪn])\n",
    "    phases_array = broadcast_to(phases,(phases.size,len(psin))) \n",
    "    \n",
    "    # rotate the angle of emission relative to the epsilon planes\n",
    "    psin_ = (psin + phases_array.T) % 2*pi\n",
    "    \n",
    "    # compute flow coefficitents\n",
    "    vn = factors * epsn\n",
    "    \n",
    "    return vn, psin_"
   ]
  },
  {
   "cell_type": "markdown",
   "metadata": {},
   "source": [
    "# An Example Run\n",
    "___\n",
    "Simulation of 100 Pb-Pb collisions has been run as `python3 nbi_glauber.py Pb Pb -n 100 -o data.npy`. 10 000 Pb-Pb takes ~ 1 minute. "
   ]
  },
  {
   "cell_type": "code",
   "execution_count": 41,
   "metadata": {},
   "outputs": [],
   "source": [
    "def run_and_create(data,factors,phases,ancestor_model,particle_production_model):\n",
    "    \"\"\"Generate charged particles in (eta,phi) of glauber events\n",
    "    \n",
    "    The glauber data is organized as follows:\n",
    "    \n",
    "    b = data[:,0], psi = data[:,1], xsec = data[:,2], npart = data[:,3], \n",
    "    ncoll = data[:,4], ecc = data[:,5:10], psin = data[:,10:15]\n",
    "    \n",
    "    Parameters\n",
    "    ----------\n",
    "    data : array of shape (Nevents,15)\n",
    "    \n",
    "    factors: array of shape (n,)\n",
    "        The factors eccentries are multiplied by to get the flow coeff.\n",
    "    \n",
    "    Returns\n",
    "    -------\n",
    "    dist : array of shape (Nevents,75,75)\n",
    "        The number of particles in (eta,phi)\n",
    "    xed : array of shape (76,)\n",
    "        The x edges of dist\n",
    "    yed : array of shape (76,)\n",
    "        The y edges of dist\n",
    "    \"\"\"\n",
    "    \n",
    "    # save data into variables\n",
    "    Npart = data[:,3]\n",
    "    Ncoll = data[:,4]\n",
    "    ecc = data[:,5:10]\n",
    "    psi = data[:,10:15]\n",
    "    \n",
    "    # get flow coefficients and symmtetry planes\n",
    "    vn, psin = epsilonn_to_vn(ecc,psi,factors,phases)    \n",
    "    \n",
    "    # create number of charged particles\n",
    "    Nch = charged_particle_production(Npart,Ncoll,ancestor_model,particle_production_model)\n",
    "                                      \n",
    "    hits = [] # list for 2d histogram\n",
    "    xed = [] # list for x edges\n",
    "    yed = [] # list for y edges\n",
    "\n",
    "    for event,charged_particles in enumerate(Nch):\n",
    "        \n",
    "        # get rapidities\n",
    "        y = generate_rapidities(Nch=charged_particles,sigma=3)\n",
    "        \n",
    "        # convert to pseudorapidity\n",
    "        eta = dy_to_deta(y,a=1/2)\n",
    "        \n",
    "        # get azimuthals\n",
    "        phi = generate_azimuthals(Nch=charged_particles,vn=vn[event],psin=psin[event])\n",
    "        \n",
    "        from numpy import histogram2d, pi, inf\n",
    "        # create d^2N/dphideta\n",
    "        H, xedges, yedges = histogram2d(phi,eta,bins=[32,32],range=[[0, 2*pi], [-5, 5]])\n",
    "        \n",
    "        # save to list\n",
    "        hits.append(H.T)\n",
    "        xed.append(xedges)\n",
    "        yed.append(yedges)\n",
    "    \n",
    "    from numpy import asarray\n",
    "    hits = asarray(hits)\n",
    "    xed = asarray(xed)\n",
    "    yed = asarray(yed)\n",
    "\n",
    "    return hits, xed, yed, vn, psin, Nch"
   ]
  },
  {
   "cell_type": "markdown",
   "metadata": {},
   "source": [
    "Lets load data from a Glauber simulation and declare factors used to compute the flow coefficients"
   ]
  },
  {
   "cell_type": "code",
   "execution_count": 42,
   "metadata": {
    "scrolled": true
   },
   "outputs": [],
   "source": [
    "from numpy import array, pi, arange\n",
    "\n",
    "phases = pi/(arange(5)+1)\n",
    "factors = array([.5,2,1,1,1]) \n",
    "\n",
    "from numpy import load\n",
    "data = load(\"../data/data.npy\")"
   ]
  },
  {
   "cell_type": "markdown",
   "metadata": {},
   "source": [
    "Creating distribution. 10 000 events takes $\\sim 20 \\: \\mathrm{s}$."
   ]
  },
  {
   "cell_type": "code",
   "execution_count": 43,
   "metadata": {
    "scrolled": true
   },
   "outputs": [
    {
     "name": "stdout",
     "output_type": "stream",
     "text": [
      "CPU times: user 337 ms, sys: 24.5 ms, total: 361 ms\n",
      "Wall time: 838 ms\n"
     ]
    }
   ],
   "source": [
    "from functools import partial\n",
    "%time event_data = run_and_create(data,factors,phases, partial(two_component,alpha=0.5),partial(negative_binomial,mu=20,k=2))"
   ]
  },
  {
   "cell_type": "markdown",
   "metadata": {},
   "source": [
    "## Vizualize"
   ]
  },
  {
   "cell_type": "code",
   "execution_count": 44,
   "metadata": {},
   "outputs": [],
   "source": [
    "def plot_event(event_data,event):  \n",
    "    \n",
    "    hits, xed, yed, vn, psin, Nch = event_data[0][event],\\\n",
    "                                    event_data[1][event],\\\n",
    "                                    event_data[2][event],\\\n",
    "                                    event_data[3][event],\\\n",
    "                                    event_data[4][event],\\\n",
    "                                    event_data[5][event]\n",
    "    \n",
    "    # some of Nch are out of eta range,\n",
    "    # and thus not detected but still \n",
    "    # produced from the collision ...\n",
    "    # we will only consider detected \n",
    "    # charged particles \n",
    "    Nch_detected = int(hits.sum())\n",
    "\n",
    "    from matplotlib.pyplot import figure, gca, legend, plot, xlabel, ylabel, legend, xticks, title, pcolormesh, colorbar\n",
    "    \n",
    "    # plot\n",
    "    fig = figure(dpi=100)\n",
    "    \n",
    "    fig.suptitle(fr'$N_{{\\mathrm{{ch}}}}={Nch_detected}$',y=0.99,x=0.45,fontsize=10)\n",
    "    ax = gca()     \n",
    "    \n",
    "    from numpy import meshgrid, arange\n",
    "    X, Y = meshgrid(xed, yed)\n",
    "    \n",
    "    from matplotlib.colors import BoundaryNorm\n",
    "    from matplotlib.cm import cividis\n",
    "    \n",
    "    # for color map\n",
    "    cmap = cividis\n",
    "    bounds = arange(hits.min(),hits.max()+2,dtype=int)\n",
    "\n",
    "    norm = BoundaryNorm(boundaries=bounds,ncolors=cmap.N,clip=True)\n",
    "    \n",
    "    pcolormesh(X, Y, hits,cmap=cmap,norm=norm)\n",
    "    \n",
    "    # more colormap workarounds \n",
    "    loc = bounds + 0.5\n",
    "    cb = colorbar();\n",
    "    cb.set_ticks(loc)\n",
    "    cb.set_ticklabels(bounds)\n",
    "    cb.ax.tick_params(labelsize=5)\n",
    "    \n",
    "    # other plotting variables\n",
    "    tick_pos= [0, pi/2, pi, 3*pi/2, 2*pi]\n",
    "    labels = ['0','$\\pi/2$','$\\pi$','$3\\pi/2$','$2\\pi$']\n",
    "    xticks(tick_pos, labels)\n",
    "    \n",
    "    ax.set_title(fr'$v_1={vn[0]:.2f} \\ '\n",
    "                 fr'v_2={vn[1]:.2f} \\ '\n",
    "                 fr'v_3={vn[2]:.2f} \\ '\n",
    "                 fr'v_4={vn[3]:.2f} \\ '\n",
    "                 fr'v_5={vn[4]:.2f} \\ $', fontsize=10)\n",
    "    \n",
    "    xlabel(r'$\\varphi$')\n",
    "    ylabel(r'$\\eta$')\n",
    "        \n",
    "    return fig"
   ]
  },
  {
   "cell_type": "code",
   "execution_count": 45,
   "metadata": {
    "scrolled": true
   },
   "outputs": [
    {
     "data": {
      "image/png": "[encoded data removed]",
      "text/plain": [
       "<Figure size 600x400 with 2 Axes>"
      ]
     },
     "metadata": {
      "needs_background": "light"
     },
     "output_type": "display_data"
    },
    {
     "data": {
      "image/png": "[encoded data removed]",
      "text/plain": [
       "<Figure size 600x400 with 2 Axes>"
      ]
     },
     "metadata": {
      "needs_background": "light"
     },
     "output_type": "display_data"
    },
    {
     "data": {
      "image/png": "[encoded data removed]",
      "text/plain": [
       "<Figure size 600x400 with 2 Axes>"
      ]
     },
     "metadata": {
      "needs_background": "light"
     },
     "output_type": "display_data"
    },
    {
     "data": {
      "image/png": "[encoded data removed]",
      "text/plain": [
       "<Figure size 600x400 with 2 Axes>"
      ]
     },
     "metadata": {
      "needs_background": "light"
     },
     "output_type": "display_data"
    },
    {
     "data": {
      "image/png": "[encoded data removed]",
      "text/plain": [
       "<Figure size 600x400 with 2 Axes>"
      ]
     },
     "metadata": {
      "needs_background": "light"
     },
     "output_type": "display_data"
    },
    {
     "data": {
      "image/png": "[encoded data removed]",
      "text/plain": [
       "<Figure size 600x400 with 2 Axes>"
      ]
     },
     "metadata": {
      "needs_background": "light"
     },
     "output_type": "display_data"
    },
    {
     "data": {
      "image/png": "[encoded data removed]",
      "text/plain": [
       "<Figure size 600x400 with 2 Axes>"
      ]
     },
     "metadata": {
      "needs_background": "light"
     },
     "output_type": "display_data"
    },
    {
     "data": {
      "image/png": "[encoded data removed]",
      "text/plain": [
       "<Figure size 600x400 with 2 Axes>"
      ]
     },
     "metadata": {
      "needs_background": "light"
     },
     "output_type": "display_data"
    },
    {
     "data": {
      "image/png": "[encoded data removed]",
      "text/plain": [
       "<Figure size 600x400 with 2 Axes>"
      ]
     },
     "metadata": {
      "needs_background": "light"
     },
     "output_type": "display_data"
    },
    {
     "data": {
      "image/png": "[encoded data removed]",
      "text/plain": [
       "<Figure size 600x400 with 2 Axes>"
      ]
     },
     "metadata": {
      "needs_background": "light"
     },
     "output_type": "display_data"
    }
   ],
   "source": [
    "for i in range(0,10):\n",
    "    plot_event(event_data,i);\n",
    "    from matplotlib.pyplot import savefig\n",
    "    # uncomment to save figures\n",
    "    #savefig('hit_test_'+str(i)+'.pdf')   "
   ]
  },
  {
   "cell_type": "markdown",
   "metadata": {},
   "source": [
    "## Save the data"
   ]
  },
  {
   "cell_type": "code",
   "execution_count": 46,
   "metadata": {},
   "outputs": [],
   "source": [
    "from numpy import save\n",
    "# uncomment to save output distributions and flow coeff.\n",
    "#save('hits_1e5_train.npy', event_data[0]) \n",
    "#save('flow_coeff_1e5_train.npy', event_data[3]) "
   ]
  }
 ],
 "metadata": {
  "kernelspec": {
   "display_name": "Python 3",
   "language": "python",
   "name": "python3"
  },
  "language_info": {
   "codemirror_mode": {
    "name": "ipython",
    "version": 3
   },
   "file_extension": ".py",
   "mimetype": "text/x-python",
   "name": "python",
   "nbconvert_exporter": "python",
   "pygments_lexer": "ipython3",
   "version": "3.7.7"
  }
 },
 "nbformat": 4,
 "nbformat_minor": 4
}
